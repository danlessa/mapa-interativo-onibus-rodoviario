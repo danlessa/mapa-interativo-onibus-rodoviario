{
 "cells": [
  {
   "cell_type": "code",
   "execution_count": 1,
   "metadata": {},
   "outputs": [],
   "source": [
    "import json\n",
    "import pandas as pd\n",
    "import plotly.graph_objects as go\n",
    "import plotly.express as px\n",
    "\n",
    "coords_path = 'data/2022-12-17 15:52:24.006277-coords.json'\n",
    "data_path = 'data/2022-12-17 14:46:49.632892-output.json'\n",
    "routes_path = 'data/2022-12-18 01:33:21.284286-company-routes.json'\n",
    "\n",
    "\n",
    "mapbox_access_token = open(\"config/.mapbox_token\").read()\n",
    "px.set_mapbox_access_token(mapbox_access_token)"
   ]
  },
  {
   "cell_type": "code",
   "execution_count": 9,
   "metadata": {},
   "outputs": [],
   "source": [
    "with open(coords_path, 'r') as fid:\n",
    "    coords_data = json.load(fid)\n",
    "\n",
    "with open(data_path, 'r') as fid:\n",
    "    route_data = json.load(fid)\n",
    "\n",
    "with open(routes_path, 'r') as fid:\n",
    "    company_routes_data = json.load(fid)"
   ]
  },
  {
   "cell_type": "code",
   "execution_count": 10,
   "metadata": {},
   "outputs": [],
   "source": [
    "coords = coords_data['coords']"
   ]
  },
  {
   "cell_type": "code",
   "execution_count": 11,
   "metadata": {},
   "outputs": [
    {
     "data": {
      "text/plain": [
       "dict_keys(['slugs', 'non_sucessful_slugs', 'routes'])"
      ]
     },
     "execution_count": 11,
     "metadata": {},
     "output_type": "execute_result"
    }
   ],
   "source": [
    "company_routes_data.keys()"
   ]
  },
  {
   "cell_type": "code",
   "execution_count": 12,
   "metadata": {},
   "outputs": [
    {
     "data": {
      "text/html": [
       "<div>\n",
       "<style scoped>\n",
       "    .dataframe tbody tr th:only-of-type {\n",
       "        vertical-align: middle;\n",
       "    }\n",
       "\n",
       "    .dataframe tbody tr th {\n",
       "        vertical-align: top;\n",
       "    }\n",
       "\n",
       "    .dataframe thead th {\n",
       "        text-align: right;\n",
       "    }\n",
       "</style>\n",
       "<table border=\"1\" class=\"dataframe\">\n",
       "  <thead>\n",
       "    <tr style=\"text-align: right;\">\n",
       "      <th></th>\n",
       "      <th>company</th>\n",
       "      <th>src</th>\n",
       "      <th>dst</th>\n",
       "      <th>src_x</th>\n",
       "      <th>src_y</th>\n",
       "      <th>dst_x</th>\n",
       "      <th>dst_y</th>\n",
       "    </tr>\n",
       "  </thead>\n",
       "  <tbody>\n",
       "    <tr>\n",
       "      <th>0</th>\n",
       "      <td>1001</td>\n",
       "      <td>sao-paulo-sp</td>\n",
       "      <td>rio-de-janeiro-rj</td>\n",
       "      <td>-46.633382</td>\n",
       "      <td>-23.550651</td>\n",
       "      <td>-43.209373</td>\n",
       "      <td>-22.911014</td>\n",
       "    </tr>\n",
       "    <tr>\n",
       "      <th>1</th>\n",
       "      <td>1001</td>\n",
       "      <td>sao-paulo-sp</td>\n",
       "      <td>cabo-frio-rj</td>\n",
       "      <td>-46.633382</td>\n",
       "      <td>-23.550651</td>\n",
       "      <td>-42.018923</td>\n",
       "      <td>-22.880437</td>\n",
       "    </tr>\n",
       "    <tr>\n",
       "      <th>2</th>\n",
       "      <td>1001</td>\n",
       "      <td>sao-paulo-sp</td>\n",
       "      <td>rio-de-janeiro-rj</td>\n",
       "      <td>-46.633382</td>\n",
       "      <td>-23.550651</td>\n",
       "      <td>-43.209373</td>\n",
       "      <td>-22.911014</td>\n",
       "    </tr>\n",
       "    <tr>\n",
       "      <th>3</th>\n",
       "      <td>1001</td>\n",
       "      <td>sao-paulo-sp</td>\n",
       "      <td>florianopolis-sc</td>\n",
       "      <td>-46.633382</td>\n",
       "      <td>-23.550651</td>\n",
       "      <td>-48.549610</td>\n",
       "      <td>-27.597300</td>\n",
       "    </tr>\n",
       "    <tr>\n",
       "      <th>4</th>\n",
       "      <td>1001</td>\n",
       "      <td>sao-paulo-sp</td>\n",
       "      <td>niteroi-rj</td>\n",
       "      <td>-46.633382</td>\n",
       "      <td>-23.550651</td>\n",
       "      <td>-43.114700</td>\n",
       "      <td>-22.888400</td>\n",
       "    </tr>\n",
       "  </tbody>\n",
       "</table>\n",
       "</div>"
      ],
      "text/plain": [
       "  company           src                dst      src_x      src_y      dst_x  \\\n",
       "0    1001  sao-paulo-sp  rio-de-janeiro-rj -46.633382 -23.550651 -43.209373   \n",
       "1    1001  sao-paulo-sp       cabo-frio-rj -46.633382 -23.550651 -42.018923   \n",
       "2    1001  sao-paulo-sp  rio-de-janeiro-rj -46.633382 -23.550651 -43.209373   \n",
       "3    1001  sao-paulo-sp   florianopolis-sc -46.633382 -23.550651 -48.549610   \n",
       "4    1001  sao-paulo-sp         niteroi-rj -46.633382 -23.550651 -43.114700   \n",
       "\n",
       "       dst_y  \n",
       "0 -22.911014  \n",
       "1 -22.880437  \n",
       "2 -22.911014  \n",
       "3 -27.597300  \n",
       "4 -22.888400  "
      ]
     },
     "execution_count": 12,
     "metadata": {},
     "output_type": "execute_result"
    }
   ],
   "source": [
    "records = []\n",
    "for company, routes in company_routes_data['routes'].items():\n",
    "    for route in routes:\n",
    "        record = {'company': company, 'src': route[0], 'dst': route[1]}\n",
    "        records.append(record)\n",
    "\n",
    "df = pd.DataFrame(records)\n",
    "\n",
    "available_slugs = set(coords_data['coords'].keys())\n",
    "def normalize(s):\n",
    "    for slug in available_slugs:\n",
    "        if slug in s:\n",
    "            return slug\n",
    "        else:\n",
    "            continue\n",
    "    return None\n",
    "\n",
    "df['src'] = df.src.map(normalize)\n",
    "df['dst'] = df.dst.map(normalize)\n",
    "\n",
    "df['src_x'] = df.src.map(lambda x: coords[x][0] if x in coords else None)\n",
    "df['src_y'] = df.src.map(lambda x: coords[x][1] if x in coords else None)\n",
    "df['dst_x'] = df.dst.map(lambda x: coords[x][0] if x in coords else None)\n",
    "df['dst_y'] = df.dst.map(lambda x: coords[x][1] if x in coords else None)\n",
    "df.head(5)\n"
   ]
  },
  {
   "cell_type": "code",
   "execution_count": 89,
   "metadata": {},
   "outputs": [
    {
     "data": {
      "application/vnd.plotly.v1+json": {
       "config": {
        "plotlyServerURL": "https://plot.ly"
       },
       "data": [
        {
         "hovertemplate": "<b>%{hovertext}</b><br><br>company=aguia-branca<br>dst_y=%{lat}<br>dst_x=%{lon}<extra></extra>",
         "hovertext": [
          "salvador-ba"
         ],
         "lat": [
          -12.9822499
         ],
         "legendgroup": "aguia-branca",
         "lon": [
          -38.4812772
         ],
         "marker": {
          "color": "#636efa",
          "size": 5
         },
         "mode": "markers",
         "name": "aguia-branca",
         "showlegend": true,
         "subplot": "mapbox",
         "type": "scattermapbox"
        },
        {
         "hovertemplate": "<b>%{hovertext}</b><br><br>company=catedral<br>dst_y=%{lat}<br>dst_x=%{lon}<extra></extra>",
         "hovertext": [
          "goiania-go",
          "anapolis-go",
          "brasilia-df",
          "taguatinga-df",
          "sao-paulo-sp",
          "ribeirao-preto-sp",
          "campinas-sp",
          "capim-grosso-ba",
          "ibotirama-ba",
          "seabra-ba",
          "jacobina-ba",
          "morro-do-chapeu-ba",
          "uberlandia-mg",
          "uberaba-mg",
          "correntina-ba",
          "santa-maria-da-vitoria-ba",
          "pau-dos-ferros-rn",
          "cajazeiras-pb",
          "brejo-santo-ce",
          "juazeiro-do-norte-ce"
         ],
         "lat": [
          -16.680882,
          -16.3332828,
          -15.7934036,
          -15.8335277,
          -23.5506507,
          -21.178333,
          -22.90556,
          -11.3793228,
          -12.1829519,
          -12.4172071,
          -11.1851561,
          -11.5500293,
          -18.9188041,
          -19.750833,
          -13.344157,
          -13.3901477,
          -6.1124964,
          -6.8897849,
          -7.4909841,
          -7.2153453
         ],
         "legendgroup": "catedral",
         "lon": [
          -49.2532691,
          -48.9525756,
          -47.8823172,
          -48.0565716,
          -46.6333824,
          -47.8066671,
          -47.06083,
          -40.0112095,
          -43.2181138,
          -41.772051,
          -40.5112434,
          -41.1570248,
          -48.2767837,
          -47.936666,
          -44.6345066,
          -44.2013167,
          -38.2062628,
          -38.5570389,
          -38.9859152,
          -39.3153336
         ],
         "marker": {
          "color": "#EF553B",
          "size": 5
         },
         "mode": "markers",
         "name": "catedral",
         "showlegend": true,
         "subplot": "mapbox",
         "type": "scattermapbox"
        },
        {
         "hovertemplate": "<b>%{hovertext}</b><br><br>company=guanabara<br>dst_y=%{lat}<br>dst_x=%{lon}<extra></extra>",
         "hovertext": [
          "fortaleza-ce",
          "brejo-santo-ce",
          "jaguaribe-ce",
          "missao-velha-ce",
          "barro-ce",
          "goiania-go",
          "brasilia-df",
          "senhor-do-bonfim-ba",
          "joao-pessoa-pb",
          "cajazeiras-pb",
          "sousa-pb",
          "capim-grosso-ba",
          "luis-eduardo-magalhaes-ba",
          "ibotirama-ba",
          "patos-pb",
          "pombal-pb",
          "taguatinga-df",
          "alvorada-do-norte-go",
          "anapolis-go",
          "sao-desiderio-ba",
          "planaltina-df",
          "sobradinho-df"
         ],
         "lat": [
          -3.7304512,
          -7.4909841,
          -5.8854585,
          -7.248491,
          -7.1713587,
          -16.680882,
          -15.7934036,
          -10.4602509,
          -7.1215981,
          -6.8897849,
          -6.7662029,
          -11.3793228,
          -12.0869117,
          -12.1829519,
          -7.0258285,
          -6.7711315,
          -15.8335277,
          -14.483911,
          -16.3332828,
          -12.357196,
          -15.6181947,
          -15.6500533
         ],
         "legendgroup": "guanabara",
         "lon": [
          -38.5217989,
          -38.9859152,
          -38.6212957,
          -39.1434843,
          -38.7742136,
          -49.2532691,
          -47.8823172,
          -40.189151,
          -34.882028,
          -38.5570389,
          -38.2319607,
          -40.0112095,
          -45.7834163,
          -43.2181138,
          -37.2766817,
          -37.7988646,
          -48.0565716,
          -46.4959897,
          -48.9525756,
          -44.976881,
          -47.6555703,
          -47.7848449
         ],
         "marker": {
          "color": "#00cc96",
          "size": 5
         },
         "mode": "markers",
         "name": "guanabara",
         "showlegend": true,
         "subplot": "mapbox",
         "type": "scattermapbox"
        },
        {
         "hovertemplate": "<b>%{hovertext}</b><br><br>company=gontijo<br>dst_y=%{lat}<br>dst_x=%{lon}<extra></extra>",
         "hovertext": [
          "sao-paulo-sp",
          "rio-de-janeiro-rj",
          "montes-claros-mg",
          "picos-pi",
          "jaicos-pi",
          "paulistana-pi",
          "patos-do-piaui-pi",
          "sobral-ce",
          "inhuma-pi",
          "taua-ce",
          "crateus-ce",
          "teresina-pi"
         ],
         "lat": [
          -23.5506507,
          -22.9110137,
          -16.7273538,
          -7.0823544,
          -7.3584791,
          -8.1389174,
          -7.6799549,
          -3.6879135,
          -6.6694502,
          -6.0031372,
          -5.1782451,
          -5.0896403
         ],
         "legendgroup": "gontijo",
         "lon": [
          -46.6333824,
          -43.2093727,
          -43.8717676,
          -41.4685053,
          -41.1446059,
          -41.1380533,
          -41.245425,
          -40.3456372,
          -41.7096008,
          -40.2947268,
          -40.6696545,
          -42.809588
         ],
         "marker": {
          "color": "#ab63fa",
          "size": 5
         },
         "mode": "markers",
         "name": "gontijo",
         "showlegend": true,
         "subplot": "mapbox",
         "type": "scattermapbox"
        },
        {
         "hovertemplate": "<b>%{hovertext}</b><br><br>company=pernambucana<br>dst_y=%{lat}<br>dst_x=%{lon}<extra></extra>",
         "hovertext": [
          "brejo-santo-ce",
          "missao-velha-ce",
          "milagres-ce",
          "juazeiro-do-norte-ce",
          "crato-ce",
          "jati-ce",
          "salgueiro-pe",
          "cabrobo-pe",
          "santa-maria-da-boa-vista-pe",
          "oroco-pe",
          "lagoa-grande-pe"
         ],
         "lat": [
          -7.4909841,
          -7.248491,
          -7.3106846,
          -7.2153453,
          -7.2369112,
          -7.6894344,
          -8.073734,
          -8.5083701,
          -8.8001615,
          -8.6147294,
          -8.9930649
         ],
         "legendgroup": "pernambucana",
         "lon": [
          -38.9859152,
          -39.1434843,
          -38.9447146,
          -39.3153336,
          -39.4149236,
          -39.006074,
          -39.12469,
          -39.3106961,
          -39.8271099,
          -39.6036682,
          -40.2716452
         ],
         "marker": {
          "color": "#FFA15A",
          "size": 5
         },
         "mode": "markers",
         "name": "pernambucana",
         "showlegend": true,
         "subplot": "mapbox",
         "type": "scattermapbox"
        },
        {
         "hovertemplate": "<b>%{hovertext}</b><br><br>company=rapido-federal<br>dst_y=%{lat}<br>dst_x=%{lon}<extra></extra>",
         "hovertext": [
          "salvador-ba",
          "santana-ba",
          "capim-grosso-ba"
         ],
         "lat": [
          -12.9822499,
          -12.979217,
          -11.3793228
         ],
         "legendgroup": "rapido-federal",
         "lon": [
          -38.4812772,
          -44.05064,
          -40.0112095
         ],
         "marker": {
          "color": "#19d3f3",
          "size": 5
         },
         "mode": "markers",
         "name": "rapido-federal",
         "showlegend": true,
         "subplot": "mapbox",
         "type": "scattermapbox"
        },
        {
         "lat": [
          -9.3817334
         ],
         "lon": [
          -40.4968875
         ],
         "marker": {
          "color": "white",
          "size": 8,
          "symbol": "square"
         },
         "mode": "markers",
         "name": "source",
         "type": "scattermapbox"
        }
       ],
       "layout": {
        "height": 800,
        "legend": {
         "title": {
          "text": "company"
         },
         "tracegroupgap": 0
        },
        "mapbox": {
         "accesstoken": "pk.eyJ1IjoiZGFubGVzc2EiLCJhIjoiY2p1MWpqcW0zMDJjNjQ0bjdpYzAzaXA3YSJ9.6xWCxX6U_GRQC7ZSDvNN2Q",
         "center": {
          "lat": -11.255740546376803,
          "lon": -42.20282969130435
         },
         "domain": {
          "x": [
           0,
           1
          ],
          "y": [
           0,
           1
          ]
         },
         "style": "dark",
         "zoom": 3
        },
        "margin": {
         "t": 60
        },
        "showlegend": true,
        "template": {
         "data": {
          "bar": [
           {
            "error_x": {
             "color": "#2a3f5f"
            },
            "error_y": {
             "color": "#2a3f5f"
            },
            "marker": {
             "line": {
              "color": "#E5ECF6",
              "width": 0.5
             },
             "pattern": {
              "fillmode": "overlay",
              "size": 10,
              "solidity": 0.2
             }
            },
            "type": "bar"
           }
          ],
          "barpolar": [
           {
            "marker": {
             "line": {
              "color": "#E5ECF6",
              "width": 0.5
             },
             "pattern": {
              "fillmode": "overlay",
              "size": 10,
              "solidity": 0.2
             }
            },
            "type": "barpolar"
           }
          ],
          "carpet": [
           {
            "aaxis": {
             "endlinecolor": "#2a3f5f",
             "gridcolor": "white",
             "linecolor": "white",
             "minorgridcolor": "white",
             "startlinecolor": "#2a3f5f"
            },
            "baxis": {
             "endlinecolor": "#2a3f5f",
             "gridcolor": "white",
             "linecolor": "white",
             "minorgridcolor": "white",
             "startlinecolor": "#2a3f5f"
            },
            "type": "carpet"
           }
          ],
          "choropleth": [
           {
            "colorbar": {
             "outlinewidth": 0,
             "ticks": ""
            },
            "type": "choropleth"
           }
          ],
          "contour": [
           {
            "colorbar": {
             "outlinewidth": 0,
             "ticks": ""
            },
            "colorscale": [
             [
              0,
              "#0d0887"
             ],
             [
              0.1111111111111111,
              "#46039f"
             ],
             [
              0.2222222222222222,
              "#7201a8"
             ],
             [
              0.3333333333333333,
              "#9c179e"
             ],
             [
              0.4444444444444444,
              "#bd3786"
             ],
             [
              0.5555555555555556,
              "#d8576b"
             ],
             [
              0.6666666666666666,
              "#ed7953"
             ],
             [
              0.7777777777777778,
              "#fb9f3a"
             ],
             [
              0.8888888888888888,
              "#fdca26"
             ],
             [
              1,
              "#f0f921"
             ]
            ],
            "type": "contour"
           }
          ],
          "contourcarpet": [
           {
            "colorbar": {
             "outlinewidth": 0,
             "ticks": ""
            },
            "type": "contourcarpet"
           }
          ],
          "heatmap": [
           {
            "colorbar": {
             "outlinewidth": 0,
             "ticks": ""
            },
            "colorscale": [
             [
              0,
              "#0d0887"
             ],
             [
              0.1111111111111111,
              "#46039f"
             ],
             [
              0.2222222222222222,
              "#7201a8"
             ],
             [
              0.3333333333333333,
              "#9c179e"
             ],
             [
              0.4444444444444444,
              "#bd3786"
             ],
             [
              0.5555555555555556,
              "#d8576b"
             ],
             [
              0.6666666666666666,
              "#ed7953"
             ],
             [
              0.7777777777777778,
              "#fb9f3a"
             ],
             [
              0.8888888888888888,
              "#fdca26"
             ],
             [
              1,
              "#f0f921"
             ]
            ],
            "type": "heatmap"
           }
          ],
          "heatmapgl": [
           {
            "colorbar": {
             "outlinewidth": 0,
             "ticks": ""
            },
            "colorscale": [
             [
              0,
              "#0d0887"
             ],
             [
              0.1111111111111111,
              "#46039f"
             ],
             [
              0.2222222222222222,
              "#7201a8"
             ],
             [
              0.3333333333333333,
              "#9c179e"
             ],
             [
              0.4444444444444444,
              "#bd3786"
             ],
             [
              0.5555555555555556,
              "#d8576b"
             ],
             [
              0.6666666666666666,
              "#ed7953"
             ],
             [
              0.7777777777777778,
              "#fb9f3a"
             ],
             [
              0.8888888888888888,
              "#fdca26"
             ],
             [
              1,
              "#f0f921"
             ]
            ],
            "type": "heatmapgl"
           }
          ],
          "histogram": [
           {
            "marker": {
             "pattern": {
              "fillmode": "overlay",
              "size": 10,
              "solidity": 0.2
             }
            },
            "type": "histogram"
           }
          ],
          "histogram2d": [
           {
            "colorbar": {
             "outlinewidth": 0,
             "ticks": ""
            },
            "colorscale": [
             [
              0,
              "#0d0887"
             ],
             [
              0.1111111111111111,
              "#46039f"
             ],
             [
              0.2222222222222222,
              "#7201a8"
             ],
             [
              0.3333333333333333,
              "#9c179e"
             ],
             [
              0.4444444444444444,
              "#bd3786"
             ],
             [
              0.5555555555555556,
              "#d8576b"
             ],
             [
              0.6666666666666666,
              "#ed7953"
             ],
             [
              0.7777777777777778,
              "#fb9f3a"
             ],
             [
              0.8888888888888888,
              "#fdca26"
             ],
             [
              1,
              "#f0f921"
             ]
            ],
            "type": "histogram2d"
           }
          ],
          "histogram2dcontour": [
           {
            "colorbar": {
             "outlinewidth": 0,
             "ticks": ""
            },
            "colorscale": [
             [
              0,
              "#0d0887"
             ],
             [
              0.1111111111111111,
              "#46039f"
             ],
             [
              0.2222222222222222,
              "#7201a8"
             ],
             [
              0.3333333333333333,
              "#9c179e"
             ],
             [
              0.4444444444444444,
              "#bd3786"
             ],
             [
              0.5555555555555556,
              "#d8576b"
             ],
             [
              0.6666666666666666,
              "#ed7953"
             ],
             [
              0.7777777777777778,
              "#fb9f3a"
             ],
             [
              0.8888888888888888,
              "#fdca26"
             ],
             [
              1,
              "#f0f921"
             ]
            ],
            "type": "histogram2dcontour"
           }
          ],
          "mesh3d": [
           {
            "colorbar": {
             "outlinewidth": 0,
             "ticks": ""
            },
            "type": "mesh3d"
           }
          ],
          "parcoords": [
           {
            "line": {
             "colorbar": {
              "outlinewidth": 0,
              "ticks": ""
             }
            },
            "type": "parcoords"
           }
          ],
          "pie": [
           {
            "automargin": true,
            "type": "pie"
           }
          ],
          "scatter": [
           {
            "fillpattern": {
             "fillmode": "overlay",
             "size": 10,
             "solidity": 0.2
            },
            "type": "scatter"
           }
          ],
          "scatter3d": [
           {
            "line": {
             "colorbar": {
              "outlinewidth": 0,
              "ticks": ""
             }
            },
            "marker": {
             "colorbar": {
              "outlinewidth": 0,
              "ticks": ""
             }
            },
            "type": "scatter3d"
           }
          ],
          "scattercarpet": [
           {
            "marker": {
             "colorbar": {
              "outlinewidth": 0,
              "ticks": ""
             }
            },
            "type": "scattercarpet"
           }
          ],
          "scattergeo": [
           {
            "marker": {
             "colorbar": {
              "outlinewidth": 0,
              "ticks": ""
             }
            },
            "type": "scattergeo"
           }
          ],
          "scattergl": [
           {
            "marker": {
             "colorbar": {
              "outlinewidth": 0,
              "ticks": ""
             }
            },
            "type": "scattergl"
           }
          ],
          "scattermapbox": [
           {
            "marker": {
             "colorbar": {
              "outlinewidth": 0,
              "ticks": ""
             }
            },
            "type": "scattermapbox"
           }
          ],
          "scatterpolar": [
           {
            "marker": {
             "colorbar": {
              "outlinewidth": 0,
              "ticks": ""
             }
            },
            "type": "scatterpolar"
           }
          ],
          "scatterpolargl": [
           {
            "marker": {
             "colorbar": {
              "outlinewidth": 0,
              "ticks": ""
             }
            },
            "type": "scatterpolargl"
           }
          ],
          "scatterternary": [
           {
            "marker": {
             "colorbar": {
              "outlinewidth": 0,
              "ticks": ""
             }
            },
            "type": "scatterternary"
           }
          ],
          "surface": [
           {
            "colorbar": {
             "outlinewidth": 0,
             "ticks": ""
            },
            "colorscale": [
             [
              0,
              "#0d0887"
             ],
             [
              0.1111111111111111,
              "#46039f"
             ],
             [
              0.2222222222222222,
              "#7201a8"
             ],
             [
              0.3333333333333333,
              "#9c179e"
             ],
             [
              0.4444444444444444,
              "#bd3786"
             ],
             [
              0.5555555555555556,
              "#d8576b"
             ],
             [
              0.6666666666666666,
              "#ed7953"
             ],
             [
              0.7777777777777778,
              "#fb9f3a"
             ],
             [
              0.8888888888888888,
              "#fdca26"
             ],
             [
              1,
              "#f0f921"
             ]
            ],
            "type": "surface"
           }
          ],
          "table": [
           {
            "cells": {
             "fill": {
              "color": "#EBF0F8"
             },
             "line": {
              "color": "white"
             }
            },
            "header": {
             "fill": {
              "color": "#C8D4E3"
             },
             "line": {
              "color": "white"
             }
            },
            "type": "table"
           }
          ]
         },
         "layout": {
          "annotationdefaults": {
           "arrowcolor": "#2a3f5f",
           "arrowhead": 0,
           "arrowwidth": 1
          },
          "autotypenumbers": "strict",
          "coloraxis": {
           "colorbar": {
            "outlinewidth": 0,
            "ticks": ""
           }
          },
          "colorscale": {
           "diverging": [
            [
             0,
             "#8e0152"
            ],
            [
             0.1,
             "#c51b7d"
            ],
            [
             0.2,
             "#de77ae"
            ],
            [
             0.3,
             "#f1b6da"
            ],
            [
             0.4,
             "#fde0ef"
            ],
            [
             0.5,
             "#f7f7f7"
            ],
            [
             0.6,
             "#e6f5d0"
            ],
            [
             0.7,
             "#b8e186"
            ],
            [
             0.8,
             "#7fbc41"
            ],
            [
             0.9,
             "#4d9221"
            ],
            [
             1,
             "#276419"
            ]
           ],
           "sequential": [
            [
             0,
             "#0d0887"
            ],
            [
             0.1111111111111111,
             "#46039f"
            ],
            [
             0.2222222222222222,
             "#7201a8"
            ],
            [
             0.3333333333333333,
             "#9c179e"
            ],
            [
             0.4444444444444444,
             "#bd3786"
            ],
            [
             0.5555555555555556,
             "#d8576b"
            ],
            [
             0.6666666666666666,
             "#ed7953"
            ],
            [
             0.7777777777777778,
             "#fb9f3a"
            ],
            [
             0.8888888888888888,
             "#fdca26"
            ],
            [
             1,
             "#f0f921"
            ]
           ],
           "sequentialminus": [
            [
             0,
             "#0d0887"
            ],
            [
             0.1111111111111111,
             "#46039f"
            ],
            [
             0.2222222222222222,
             "#7201a8"
            ],
            [
             0.3333333333333333,
             "#9c179e"
            ],
            [
             0.4444444444444444,
             "#bd3786"
            ],
            [
             0.5555555555555556,
             "#d8576b"
            ],
            [
             0.6666666666666666,
             "#ed7953"
            ],
            [
             0.7777777777777778,
             "#fb9f3a"
            ],
            [
             0.8888888888888888,
             "#fdca26"
            ],
            [
             1,
             "#f0f921"
            ]
           ]
          },
          "colorway": [
           "#636efa",
           "#EF553B",
           "#00cc96",
           "#ab63fa",
           "#FFA15A",
           "#19d3f3",
           "#FF6692",
           "#B6E880",
           "#FF97FF",
           "#FECB52"
          ],
          "font": {
           "color": "#2a3f5f"
          },
          "geo": {
           "bgcolor": "white",
           "lakecolor": "white",
           "landcolor": "#E5ECF6",
           "showlakes": true,
           "showland": true,
           "subunitcolor": "white"
          },
          "hoverlabel": {
           "align": "left"
          },
          "hovermode": "closest",
          "mapbox": {
           "style": "light"
          },
          "paper_bgcolor": "white",
          "plot_bgcolor": "#E5ECF6",
          "polar": {
           "angularaxis": {
            "gridcolor": "white",
            "linecolor": "white",
            "ticks": ""
           },
           "bgcolor": "#E5ECF6",
           "radialaxis": {
            "gridcolor": "white",
            "linecolor": "white",
            "ticks": ""
           }
          },
          "scene": {
           "xaxis": {
            "backgroundcolor": "#E5ECF6",
            "gridcolor": "white",
            "gridwidth": 2,
            "linecolor": "white",
            "showbackground": true,
            "ticks": "",
            "zerolinecolor": "white"
           },
           "yaxis": {
            "backgroundcolor": "#E5ECF6",
            "gridcolor": "white",
            "gridwidth": 2,
            "linecolor": "white",
            "showbackground": true,
            "ticks": "",
            "zerolinecolor": "white"
           },
           "zaxis": {
            "backgroundcolor": "#E5ECF6",
            "gridcolor": "white",
            "gridwidth": 2,
            "linecolor": "white",
            "showbackground": true,
            "ticks": "",
            "zerolinecolor": "white"
           }
          },
          "shapedefaults": {
           "line": {
            "color": "#2a3f5f"
           }
          },
          "ternary": {
           "aaxis": {
            "gridcolor": "white",
            "linecolor": "white",
            "ticks": ""
           },
           "baxis": {
            "gridcolor": "white",
            "linecolor": "white",
            "ticks": ""
           },
           "bgcolor": "#E5ECF6",
           "caxis": {
            "gridcolor": "white",
            "linecolor": "white",
            "ticks": ""
           }
          },
          "title": {
           "x": 0.05
          },
          "xaxis": {
           "automargin": true,
           "gridcolor": "white",
           "linecolor": "white",
           "ticks": "",
           "title": {
            "standoff": 15
           },
           "zerolinecolor": "white",
           "zerolinewidth": 2
          },
          "yaxis": {
           "automargin": true,
           "gridcolor": "white",
           "linecolor": "white",
           "ticks": "",
           "title": {
            "standoff": 15
           },
           "zerolinecolor": "white",
           "zerolinewidth": 2
          }
         }
        }
       }
      }
     },
     "metadata": {},
     "output_type": "display_data"
    }
   ],
   "source": [
    "\n",
    "def slug_to_city(slug):\n",
    "    splitted_slug = slug.split(\"-\")\n",
    "    uf = splitted_slug[-1].lower()\n",
    "    place = \" \".join(splitted_slug[0:-1])\n",
    "    address = f'{place} / {uf}'\n",
    "    return address\n",
    "\n",
    "#company = '1001'\n",
    "slug = 'petrolina-pe'\n",
    "QUERY = f'company == \"{company}\" & (src == \"{slug}\" or dst == \"{slug}\")'\n",
    "QUERY = f'(src == \"{slug}\" or dst == \"{slug}\")'\n",
    "fig_df = df.query(QUERY)\n",
    "\n",
    "inds = fig_df.dst == slug\n",
    "orig_df = fig_df.copy(True)\n",
    "fig_df.loc[inds, 'src'] = orig_df[inds]['dst']\n",
    "fig_df.loc[inds, 'dst'] = orig_df[inds]['src']\n",
    "fig_df.loc[inds, 'src_x'] = orig_df[inds]['dst_x']\n",
    "fig_df.loc[inds, 'src_y'] = orig_df[inds]['dst_y']\n",
    "fig_df.loc[inds, 'dst_x'] = orig_df[inds]['src_x']\n",
    "fig_df.loc[inds, 'dst_y'] = orig_df[inds]['src_y']\n",
    "fig_df = fig_df.drop_duplicates()\n",
    "\n",
    "\n",
    "fig = px.scatter_mapbox(fig_df,\n",
    "                     lon='dst_x',\n",
    "                      lat='dst_y', \n",
    "                     color='company',\n",
    "                     hover_name='dst',\n",
    "                     height=800)\n",
    "\n",
    "fig.update_traces(marker=dict(size=5))\n",
    "\n",
    "fig.add_trace(go.Scattermapbox(\n",
    "    name='source',\n",
    "    lon = [fig_df.src_x.unique()[0]],\n",
    "    lat = [fig_df.src_y.unique()[0]],\n",
    "    mode = 'markers',\n",
    "    marker = dict(\n",
    "        symbol='square',\n",
    "        size = 8,\n",
    "        color = 'white'\n",
    "    )\n",
    "    )\n",
    "    )\n",
    "\n",
    "# fig.update_geos(fitbounds=\"locations\", projection_type='orthographic',\n",
    "#     resolution=50,\n",
    "#     showcoastlines=True, coastlinecolor=\"RebeccaPurple\",\n",
    "#     showocean=True, oceancolor=\"LightBlue\",\n",
    "#     showlakes=True, lakecolor=\"LightBlue\",\n",
    "#     showrivers=True, rivercolor=\"LightBlue\",\n",
    "#         showcountries=True, countrycolor=\"Black\")\n",
    "fig.update_layout(\n",
    "    mapbox = {\n",
    "        'accesstoken': mapbox_access_token,\n",
    "        'style': \"dark\", 'zoom': 3},\n",
    "    showlegend = True)\n",
    "\n",
    "fig.show()\n"
   ]
  },
  {
   "cell_type": "code",
   "execution_count": 28,
   "metadata": {},
   "outputs": [
    {
     "data": {
      "text/plain": [
       "guanabara             5596\n",
       "aguia-branca          2654\n",
       "unesul                2452\n",
       "expresso-itamarati    1763\n",
       "catarinense           1578\n",
       "                      ... \n",
       "oeste-de-minas           2\n",
       "trans-sales              2\n",
       "santa-izabel             2\n",
       "sao-joao                 1\n",
       "sao-gabriel              1\n",
       "Name: company, Length: 187, dtype: int64"
      ]
     },
     "execution_count": 28,
     "metadata": {},
     "output_type": "execute_result"
    }
   ],
   "source": [
    "df.company.value_counts()"
   ]
  },
  {
   "cell_type": "code",
   "execution_count": 37,
   "metadata": {},
   "outputs": [
    {
     "data": {
      "text/plain": [
       "sao-paulo-sp         2202.0\n",
       "goiania-go           1161.0\n",
       "brasilia-df           953.0\n",
       "rio-de-janeiro-rj     850.0\n",
       "campo-grande-ms       804.0\n",
       "cascavel-pr           784.0\n",
       "curitiba-pr           772.0\n",
       "uberlandia-mg         651.0\n",
       "cuiaba-mt             610.0\n",
       "ribeirao-preto-sp     570.0\n",
       "dtype: float64"
      ]
     },
     "execution_count": 37,
     "metadata": {},
     "output_type": "execute_result"
    }
   ],
   "source": [
    "(df.src.value_counts().dropna() + df.dst.value_counts().dropna()).sort_values(ascending=False).head(10)"
   ]
  },
  {
   "cell_type": "code",
   "execution_count": null,
   "metadata": {},
   "outputs": [],
   "source": []
  }
 ],
 "metadata": {
  "kernelspec": {
   "display_name": "Python 3.9.5 ('base')",
   "language": "python",
   "name": "python3"
  },
  "language_info": {
   "codemirror_mode": {
    "name": "ipython",
    "version": 3
   },
   "file_extension": ".py",
   "mimetype": "text/x-python",
   "name": "python",
   "nbconvert_exporter": "python",
   "pygments_lexer": "ipython3",
   "version": "3.9.5 (default, May 18 2021, 12:31:01) \n[Clang 10.0.0 ]"
  },
  "orig_nbformat": 4,
  "vscode": {
   "interpreter": {
    "hash": "e7cb1b9ae4d417fedf7f40a8eec98f7cfbd359e096bd857395a915f4609834ce"
   }
  }
 },
 "nbformat": 4,
 "nbformat_minor": 2
}
